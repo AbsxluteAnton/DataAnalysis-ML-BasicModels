{
 "cells": [
  {
   "cell_type": "markdown",
   "metadata": {},
   "source": [
    "# Домашняя работа № 6\n",
    "## Проверка статистических гипотез:\n",
    "\n",
    "Для 6 наборов данных проверьте гипотезы об эффективности лекарства по рсавнению с плацебо."
   ]
  },
  {
   "cell_type": "code",
   "execution_count": 4,
   "metadata": {},
   "outputs": [],
   "source": [
    "# Воспользуйтесь данным кодом для сохранения предсказанных данных. Не удаляйте эту ячейку.\n",
    "\n",
    "HW_number = 6 # Здесь нужно указать номер домашнего задания \n",
    "student_id = 13 # Здесь нужно указать student_id\n",
    "\n",
    "\n",
    "data = {'case_1': 1, # Для всех case нужно указать 1, если гипотеза об эффективности лекасртва подтвердилась, и 0, если не подьвердилась.\n",
    "        'case_2': 1,\n",
    "        'case_3': 0,\n",
    "        'case_4': 0,\n",
    "        'case_5': 0,\n",
    "        'case_6': 1,\n",
    "       }\n",
    "\n",
    "\n",
    "y_pred = pd.DataFrame(data = data, columns = ['target'])\n",
    "y_pred.to_csv(f'y_pred-HW_{HW_number}-sid_{student_id}.csv')"
   ]
  },
  {
   "cell_type": "code",
   "execution_count": 2,
   "metadata": {},
   "outputs": [],
   "source": [
    "from scipy import stats\n",
    "import numpy as np\n",
    "import pandas as pd\n",
    "import matplotlib.pyplot as plt"
   ]
  },
  {
   "cell_type": "markdown",
   "metadata": {},
   "source": [
    "# **Case 1**"
   ]
  },
  {
   "cell_type": "code",
   "execution_count": 39,
   "metadata": {},
   "outputs": [
    {
     "name": "stdout",
     "output_type": "stream",
     "text": [
      "Нулевая гипотеза: разницы нет\n",
      "n*p: 426.0\n",
      "n*(1-p): 2040.0\n",
      "z =  6.71193\n",
      "p_value =  0.00000\n",
      "Нулевая гипотеза отвергается, разница есть - 1\n"
     ]
    }
   ],
   "source": [
    "data = pd.read_csv('HW_6-sid_13_case_1.csv') #case 1\n",
    "placebo = data['placebo']\n",
    "drug = data['drug']\n",
    "p_placebo = sum(placebo)/len(placebo)\n",
    "p_drug = sum(drug)/len(drug)\n",
    "p = (sum(placebo)+sum(drug))/(len(placebo)+len(drug))\n",
    "print('Нулевая гипотеза: разницы нет')\n",
    "print('n*p:',p*(len(placebo)+len(drug))) #больше 5 => можно применять z-критерий\n",
    "print('n*(1-p):',(1-p)*(len(placebo)+len(drug)))\n",
    "alpha = 0.05\n",
    "#z = (abs(p_placebo-p_drug)-0.5*(1/len(placebo)+1/len(drug)))/(np.sqrt(p*(1-p)*(1/len(placebo)+1/len(drug))))\n",
    "z = (abs(p_placebo-p_drug))/(np.sqrt(p*(1-p)*(1/len(placebo)+1/len(drug))))\n",
    "print(f'z =  {z :.5f}')\n",
    "p_value = 2*(1-stats.norm.cdf(abs(z)))\n",
    "print(f'p_value =  {p_value :.5f}')\n",
    "if p_value < alpha:\n",
    "    print('Нулевая гипотеза отвергается, разница есть - 1')\n",
    "else:\n",
    "    print('Нет оснований отвергать нулевую гипотезу, разницы нет - 0')\n",
    "    "
   ]
  },
  {
   "cell_type": "markdown",
   "metadata": {},
   "source": [
    "# **Case 2**"
   ]
  },
  {
   "cell_type": "code",
   "execution_count": 40,
   "metadata": {},
   "outputs": [
    {
     "name": "stdout",
     "output_type": "stream",
     "text": [
      "Нулевая гипотеза: разницы нет\n",
      "n*p: 436.0\n",
      "n*(1-p): 1506.0\n",
      "z =  9.46277\n",
      "p_value =  0.00000\n",
      "Нулевая гипотеза отвергается, разница есть - 1\n"
     ]
    }
   ],
   "source": [
    "data = pd.read_csv('HW_6-sid_13_case_2.csv') #case 2\n",
    "placebo = data['placebo']\n",
    "drug = data['drug']\n",
    "p_placebo = sum(placebo)/len(placebo)\n",
    "p_drug = sum(drug)/len(drug)\n",
    "p = (sum(placebo)+sum(drug))/(len(placebo)+len(drug))\n",
    "print('Нулевая гипотеза: разницы нет')\n",
    "print('n*p:',p*(len(placebo)+len(drug))) #больше 5 => можно применять z-критерий\n",
    "print('n*(1-p):',(1-p)*(len(placebo)+len(drug)))\n",
    "alpha = 0.05\n",
    "#z = (abs(p_placebo-p_drug)-0.5*(1/len(placebo)+1/len(drug)))/(np.sqrt(p*(1-p)*(1/len(placebo)+1/len(drug))))\n",
    "z = (abs(p_placebo-p_drug))/(np.sqrt(p*(1-p)*(1/len(placebo)+1/len(drug))))\n",
    "print(f'z =  {z :.5f}')\n",
    "p_value = 2*(1-stats.norm.cdf(abs(z)))\n",
    "print(f'p_value =  {p_value :.5f}')\n",
    "if p_value < alpha:\n",
    "    print('Нулевая гипотеза отвергается, разница есть - 1')\n",
    "else:\n",
    "    print('Нет оснований отвергать нулевую гипотезу, разницы нет - 0')\n",
    "   "
   ]
  },
  {
   "cell_type": "markdown",
   "metadata": {},
   "source": [
    "# **Case 3**"
   ]
  },
  {
   "cell_type": "code",
   "execution_count": 41,
   "metadata": {},
   "outputs": [
    {
     "name": "stdout",
     "output_type": "stream",
     "text": [
      "Нулевая гипотеза: разницы нет\n",
      "n*p: 105.0\n",
      "n*(1-p): 749.0\n",
      "z =  0.72944\n",
      "p_value =  0.46573\n",
      "Нет оснований отвергать нулевую гипотезу, разницы нет - 0\n"
     ]
    }
   ],
   "source": [
    "data = pd.read_csv('HW_6-sid_13_case_3.csv') #case 3\n",
    "placebo = data['placebo']\n",
    "drug = data['drug']\n",
    "p_placebo = sum(placebo)/len(placebo)\n",
    "p_drug = sum(drug)/len(drug)\n",
    "p = (sum(placebo)+sum(drug))/(len(placebo)+len(drug))\n",
    "print('Нулевая гипотеза: разницы нет')\n",
    "print('n*p:',p*(len(placebo)+len(drug))) #больше 5 => можно применять z-критерий\n",
    "print('n*(1-p):',(1-p)*(len(placebo)+len(drug)))\n",
    "alpha = 0.05\n",
    "#z = (abs(p_placebo-p_drug)-0.5*(1/len(placebo)+1/len(drug)))/(np.sqrt(p*(1-p)*(1/len(placebo)+1/len(drug))))\n",
    "z = (abs(p_placebo-p_drug))/(np.sqrt(p*(1-p)*(1/len(placebo)+1/len(drug))))\n",
    "print(f'z =  {z :.5f}')\n",
    "p_value = 2*(1-stats.norm.cdf(abs(z)))\n",
    "print(f'p_value =  {p_value :.5f}')\n",
    "if p_value < alpha:\n",
    "    print('Нулевая гипотеза отвергается, разница есть - 1')\n",
    "else:\n",
    "    print('Нет оснований отвергать нулевую гипотезу, разницы нет - 0')"
   ]
  },
  {
   "cell_type": "markdown",
   "metadata": {},
   "source": [
    "# **Case 4**"
   ]
  },
  {
   "cell_type": "code",
   "execution_count": 42,
   "metadata": {},
   "outputs": [
    {
     "name": "stdout",
     "output_type": "stream",
     "text": [
      "Нулевая гипотеза: разницы нет\n",
      "z =  0.33698\n",
      "p_value =  0.73613\n",
      "Нет оснований отвергать нулевую гипотезу, разницы нет - 0\n"
     ]
    }
   ],
   "source": [
    "data = pd.read_csv('HW_6-sid_13_case_4.csv') #case 4\n",
    "placebo = data['placebo']\n",
    "drug = data['drug']\n",
    "print('Нулевая гипотеза: разницы нет')\n",
    "mean_placebo = np.mean(placebo)\n",
    "mean_drug = np.mean(drug)\n",
    "std_placebo = np.std(placebo)\n",
    "std_drug = np.std(drug)\n",
    "alpha = 0.05\n",
    "z = (mean_drug - mean_placebo) / np.sqrt((std_drug**2/len(drug)) + (std_placebo**2/len(placebo)))\n",
    "print(f'z =  {z :.5f}')\n",
    "p_value = 2*(1-stats.norm.cdf(abs(z)))\n",
    "print(f'p_value =  {p_value :.5f}')\n",
    "if p_value < alpha:\n",
    "    print('Нулевая гипотеза отвергается, разница есть - 1')\n",
    "else:\n",
    "    print('Нет оснований отвергать нулевую гипотезу, разницы нет - 0')"
   ]
  },
  {
   "cell_type": "markdown",
   "metadata": {},
   "source": [
    "# **Case 5**"
   ]
  },
  {
   "cell_type": "code",
   "execution_count": 43,
   "metadata": {},
   "outputs": [
    {
     "name": "stdout",
     "output_type": "stream",
     "text": [
      "Нулевая гипотеза: разницы нет\n",
      "z =  0.49394\n",
      "p_value =  0.62135\n",
      "Нет оснований отвергать нулевую гипотезу, разницы нет - 0\n"
     ]
    }
   ],
   "source": [
    "data = pd.read_csv('HW_6-sid_13_case_5.csv') #case 5\n",
    "placebo = data['placebo']\n",
    "drug = data['drug']\n",
    "print('Нулевая гипотеза: разницы нет')\n",
    "mean_placebo = np.mean(placebo)\n",
    "mean_drug = np.mean(drug)\n",
    "std_placebo = np.std(placebo)\n",
    "std_drug = np.std(drug)\n",
    "alpha = 0.05\n",
    "z = (mean_drug - mean_placebo) / np.sqrt((std_drug**2/len(drug)) + (std_placebo**2/len(placebo)))\n",
    "print(f'z =  {z :.5f}')\n",
    "p_value = 2*(1-stats.norm.cdf(abs(z)))\n",
    "print(f'p_value =  {p_value :.5f}')\n",
    "if p_value < alpha:\n",
    "    print('Нулевая гипотеза отвергается, разница есть - 1')\n",
    "else:\n",
    "    print('Нет оснований отвергать нулевую гипотезу, разницы нет - 0')"
   ]
  },
  {
   "cell_type": "markdown",
   "metadata": {},
   "source": [
    "# **Case 6**"
   ]
  },
  {
   "cell_type": "code",
   "execution_count": 44,
   "metadata": {},
   "outputs": [
    {
     "name": "stdout",
     "output_type": "stream",
     "text": [
      "Нулевая гипотеза: разницы нет\n",
      "z =  -2.06444\n",
      "p_value =  0.03898\n",
      "Нулевая гипотеза отвергается, разница есть - 1\n"
     ]
    }
   ],
   "source": [
    "data = pd.read_csv('HW_6-sid_13_case_6.csv') #case 6\n",
    "placebo = data['placebo']\n",
    "drug = data['drug']\n",
    "print('Нулевая гипотеза: разницы нет')\n",
    "mean_placebo = np.mean(placebo)\n",
    "mean_drug = np.mean(drug)\n",
    "std_placebo = np.std(placebo)\n",
    "std_drug = np.std(drug)\n",
    "alpha = 0.05\n",
    "z = (mean_drug - mean_placebo) / np.sqrt((std_drug**2/len(drug)) + (std_placebo**2/len(placebo)))\n",
    "print(f'z =  {z :.5f}')\n",
    "p_value = 2*(1-stats.norm.cdf(abs(z)))\n",
    "print(f'p_value =  {p_value :.5f}')\n",
    "if p_value < alpha:\n",
    "    print('Нулевая гипотеза отвергается, разница есть - 1')\n",
    "else:\n",
    "    print('Нет оснований отвергать нулевую гипотезу, разницы нет - 0')"
   ]
  },
  {
   "cell_type": "code",
   "execution_count": null,
   "metadata": {},
   "outputs": [],
   "source": []
  }
 ],
 "metadata": {
  "kernelspec": {
   "display_name": "Python 3 (ipykernel)",
   "language": "python",
   "name": "python3"
  },
  "language_info": {
   "codemirror_mode": {
    "name": "ipython",
    "version": 3
   },
   "file_extension": ".py",
   "mimetype": "text/x-python",
   "name": "python",
   "nbconvert_exporter": "python",
   "pygments_lexer": "ipython3",
   "version": "3.11.5"
  }
 },
 "nbformat": 4,
 "nbformat_minor": 4
}
